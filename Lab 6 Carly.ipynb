{
 "cells": [
  {
   "cell_type": "markdown",
   "metadata": {},
   "source": [
    "#### Bowtie2 output: filtering out human reads\n",
    "\n",
    "$ bowtie2 -p 4 --very-fast --no-unal -x /data/hq19/hg19 -U /data/lab6/illumina_reads.fastq -S output.sam --un unaligned.fastq\n",
    "\n",
    "\n",
    "1124714 reads; of these:\n",
    "\n",
    "    1124714 (100.00 percent) were unpaired; of those:\n",
    "    \n",
    "        1028379 (91.43 percent) aligned 0 times\n",
    "        \n",
    "        87274 (7.76 percent) aligned exactly 1 time\n",
    "        \n",
    "        9061 (0.81 percent) aligned >1 times\n",
    "        \n",
    "8.57 percent overall alignment rate\n",
    "\n",
    "It seems like 8.57 percent of the reads came from human DNA, since they aligned with the human genome.\n",
    "\n",
    "unaligned.fastq should contain all the non-human-contaminated reads. Filtering these out was our goal, so this is good."
   ]
  },
  {
   "cell_type": "markdown",
   "metadata": {},
   "source": [
    "#### Bowtie2 output: aligning filtered reads to S. oneidensis (--very-fast)\n",
    "\n",
    "$ bowtie2 -p 4 --very-fast --no-unal -x /data/lab6/shewanella_oneidensis_mr-1 -U unaligned.fastq -S oneidensisNC.sam --un unalignedNC.fastq\n",
    "\n",
    "\n",
    "1028379 reads; of these:\n",
    "\n",
    "    1028379 (100.00 percent) were unpaired; of those:\n",
    "    \n",
    "        299560 (29.13 percent) aligned 0 times\n",
    "        \n",
    "        687571 (66.86 percent) aligned exactly 1 time\n",
    "        \n",
    "        41248 (4.01 percent) aligned >1 times\n",
    "        \n",
    "70.87 percent overall alignment rate\n",
    "\n",
    "unalignedNC.fastq will contain all the reads that didn't align to the human genome or the S. oneidensis genome (with the --very-fast setting).\n",
    "\n",
    "Hopefully increasing the sensitivity will decrease the percentage of reads that didn't align."
   ]
  },
  {
   "cell_type": "markdown",
   "metadata": {},
   "source": [
    "#### Bowtie2 output: aligning filtered reads to S. oneidensis (--very-sensitive)\n",
    "\n",
    "$ bowtie2 -p 4 --very-sensitive --no-unal -x /data/lab6/shewanella_oneidensis_mr-1 -U unaligned.fastq -S oneidensisNC.sam --un unalignedNC.fastq\n",
    "\n",
    "\n",
    "1028379 reads; of these:\n",
    "\n",
    "    1028379 (100.00 percent) were unpaired; of those:\n",
    "    \n",
    "        299560 (29.13 percent) aligned 0 times\n",
    "        \n",
    "        687571 (66.86 percent) aligned exactly 1 time\n",
    "        \n",
    "        41248 (4.01 percent) aligned >1 times\n",
    "        \n",
    "70.87 percent overall alignment rate\n",
    "\n",
    "Using the --very-sensitive setting produced the same exact results as the --very-fast setting, so the percentage of reads that didn't align (29.13 percent) is likely accurate."
   ]
  },
  {
   "cell_type": "code",
   "execution_count": 1,
   "metadata": {},
   "outputs": [],
   "source": [
    "import matplotlib.pyplot as plt\n",
    "%matplotlib inline\n",
    "import numpy as np\n",
    "from numpy.random import normal, rand\n",
    "import csv"
   ]
  },
  {
   "cell_type": "code",
   "execution_count": 9,
   "metadata": {},
   "outputs": [
    {
     "data": {
      "image/png": "[encoded data removed]",
      "text/plain": [
       "<Figure size 432x288 with 1 Axes>"
      ]
     },
     "metadata": {
      "needs_background": "light"
     },
     "output_type": "display_data"
    }
   ],
   "source": [
    "x = []\n",
    "depths = []\n",
    "\n",
    "with open('oneidensisNC.tab','r') as oneidensis:\n",
    "    plots = csv.reader(oneidensis, delimiter='\\t')\n",
    "    for row in plots:\n",
    "        x.append(int(row[1]))\n",
    "        depths.append(int(row[2]))        \n",
    "\n",
    "plt.plot(x, depths,'r.')\n",
    "plt.title(\"Oneidensis Read Depths\")  \n",
    "plt.xlabel(\"Nucleotide Position\") \n",
    "plt.ylabel(\"Depth\")\n",
    "plt.show() "
   ]
  },
  {
   "cell_type": "code",
   "execution_count": 10,
   "metadata": {},
   "outputs": [
    {
     "data": {
      "image/png": "[encoded data removed]",
      "text/plain": [
       "<Figure size 432x288 with 1 Axes>"
      ]
     },
     "metadata": {
      "needs_background": "light"
     },
     "output_type": "display_data"
    }
   ],
   "source": [
    "plt.hist(depths, bins= 90)\n",
    "plt.title(\"Onidesis Coverage Depth Distribution\")  \n",
    "plt.xlabel(\"Depth\") \n",
    "plt.ylabel(\"Nucleotide Position\")\n",
    "plt.show()"
   ]
  },
  {
   "cell_type": "code",
   "execution_count": 12,
   "metadata": {},
   "outputs": [
    {
     "name": "stdout",
     "output_type": "stream",
     "text": [
      "269\n",
      "0\n",
      "36.955644792125895\n"
     ]
    }
   ],
   "source": [
    "print(max(depths))\n",
    "\n",
    "print(min(depths))\n",
    "\n",
    "#mean depth\n",
    "print(sum(depths)/len(depths))"
   ]
  },
  {
   "cell_type": "code",
   "execution_count": null,
   "metadata": {},
   "outputs": [],
   "source": [
    "x2 = []\n",
    "depths2 = []\n",
    "\n",
    "with open('humanNC.tab','r') as human:\n",
    "    plots = csv.reader(human, delimiter='\\t')\n",
    "    for row in plots:\n",
    "        x2.append(int(row[1]))\n",
    "        depths2.append(int(row[2]))        \n",
    "\n",
    "plt.plot(x2, depths2,'r.')\n",
    "plt.title(\"Human Read Depths\")  \n",
    "plt.xlabel(\"Nucleotide Position\") \n",
    "plt.ylabel(\"Depth\")\n",
    "plt.show() "
   ]
  },
  {
   "cell_type": "markdown",
   "metadata": {},
   "source": [
    "humanNC.tab was ~50GB compared to oneidensisNC.tab's ~108MB, so the cell would not run with the above code"
   ]
  },
  {
   "cell_type": "code",
   "execution_count": null,
   "metadata": {},
   "outputs": [],
   "source": []
  }
 ],
 "metadata": {
  "kernelspec": {
   "display_name": "Python 3",
   "language": "python",
   "name": "python3"
  },
  "language_info": {
   "codemirror_mode": {
    "name": "ipython",
    "version": 3
   },
   "file_extension": ".py",
   "mimetype": "text/x-python",
   "name": "python",
   "nbconvert_exporter": "python",
   "pygments_lexer": "ipython3",
   "version": "3.6.6"
  }
 },
 "nbformat": 4,
 "nbformat_minor": 2
}
